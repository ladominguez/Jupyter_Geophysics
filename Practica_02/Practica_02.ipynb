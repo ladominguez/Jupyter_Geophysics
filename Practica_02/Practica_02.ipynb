{
 "cells": [
  {
   "cell_type": "markdown",
   "metadata": {},
   "source": [
    "![title](header2.png)"
   ]
  },
  {
   "cell_type": "markdown",
   "metadata": {},
   "source": [
    "# Misión\n",
    "En esta prácticamos tendrás que calcular la marea sintética para el més de tu cumpleaños e identificar si naciste en marea viva o marea muerta. Además, tendrás que descargar datos satelitates para México y graficarlos. "
   ]
  },
  {
   "cell_type": "markdown",
   "metadata": {},
   "source": [
    "# Parte 1 - Mareas Terrestres\n",
    "En está práctica harás uso del software, TSoft http://seismologie.oma.be/en/downloads/tsoft, para el cálculo de las mareas teórica. Ve el video siguiente video donde se explica como calcular la marea utilizando este programa. Antes de empezar cualquier programa es necesario importar las librerías que va a utilizar. En este caso haremos uso de dos librerías muy comúnes que son **`numpy`** y **`matplotlib`**. \n"
   ]
  },
  {
   "cell_type": "code",
   "execution_count": 31,
   "metadata": {},
   "outputs": [],
   "source": [
    "import numpy as np\n",
    "import matplotlib.pyplot as plt\n",
    "from scipy.interpolate import griddata"
   ]
  },
  {
   "cell_type": "markdown",
   "metadata": {},
   "source": [
    "## Pasos\n",
    "1. Genera el cálculo de la marea para el mes en que naciste en base al siguiente video https://youtu.be/9aZvNpm8XOQ. \n",
    "2. Genera un vector de tiempo de tal forma que el eje de las x- este en días. Se recomienda utilizar la función <a href=\"https://numpy.org/doc/stable/reference/generated/numpy.linspace.html\"> numpy.linspace</a>.\n",
    "3. Grafica los datos e identifica visualmente el día en que nacisiste. Se recomienda utilizar la función <a href='https://numpy.org/doc/stable/reference/generated/numpy.genfromtxt.html'>numpy.genfromtxt</a>.\n",
    "**Tips: ** Recuerda que no vamos a utilizar la primera columna del archivo** expchan.dat. **Unicamente la segunda columna**.\n",
    "\n",
    "**<font color='red'>Nota. Verifica que las unidades de la aceleración sean mGals. Tendrás que calcular el factor de conversión de nm/s^2 a mGals.</font>**"
   ]
  },
  {
   "cell_type": "code",
   "execution_count": 36,
   "metadata": {},
   "outputs": [],
   "source": [
    "data = None\n",
    "fact = None\n",
    "time = None\n",
    "data = data[:,1]*fact \n",
    "fig, ax = plt.subplots(1,figsize=(12,6))\n",
    "ax.plot(time, data)\n",
    "ax.set_xlabel('Dias')\n",
    "ax.set_ylabel(f'$mGal$')\n",
    "plt.grid()"
   ]
  },
  {
   "cell_type": "markdown",
   "metadata": {},
   "source": [
    "###  Posible solución.\n",
    "![title](./sol1.png)\n",
    "### Cuestionario\n",
    "¿Naciste en marea viva o en marea muerta?"
   ]
  },
  {
   "cell_type": "markdown",
   "metadata": {},
   "source": []
  },
  {
   "cell_type": "markdown",
   "metadata": {},
   "source": [
    "# Parte 2 - Datos de satélite\n",
    "En esta parte vamos a descargar datos obtenidos a través de diferentes misiones satelitales. Para ello deberás de descargar los datos correspondientes de la página http://icgem.gfz-potsdam.de/tom_longtime. Esto te generará un archivo de 3 columnas, la primera con la longitud (x), la segunda con la latitud (y) y la tercera con el campo que hayas seleccionado graficar (geoide, gravedad, etc.). Abre este archivo con el editor de texto de tu preferencia, y verifica cuantas lineas forman el encabezado. Puedes ver el siguiente video para saber como se descarga https://youtu.be/u6_uJmL5KpA."
   ]
  },
  {
   "cell_type": "code",
   "execution_count": null,
   "metadata": {},
   "outputs": [],
   "source": [
    "filename = None\n",
    "header_lines = None\n",
    "data_gravedad = np.genfromtxt(filename,skip_header=header_lines)\n",
    "\n",
    "# Utiliza las siguientes líneas en caso de que las dimensiones de tu arreglo \n",
    "# sean muy grandes\n",
    "#longitud = data_gravedad[1::200,0]\n",
    "#latitud  = data_gravedad[1::200,1]\n",
    "#z        = data_gravedad[1::200,2]\n",
    "\n",
    "min_lon  = np.min(longitud)\n",
    "max_lon  = np.max(longitud)\n",
    "min_lat  = np.min(latitud)\n",
    "max_lat  = np.max(latitud)\n",
    "\n",
    "\n",
    "xi       = np.linspace(min_lon, max_lon, 101)\n",
    "yi       = np.linspace(min_lat, max_lat, 101)\n",
    "X, Y     = np.meshgrid(xi, yi)\n",
    "zi = griddata((longitud,latitud),z,(X,Y), method='linear')\n",
    "cmap = plt.get_cmap('turbo')\n",
    "fig, ax = plt.subplots(1,figsize=(11,8))\n",
    "ax.pcolormesh(xi, yi, zi, cmap='terrain', shading='auto')"
   ]
  },
  {
   "cell_type": "markdown",
   "metadata": {},
   "source": [
    "### Posible solución\n",
    "![title](./sol2.png)\n",
    "**<font color='red'>Nota. Debido a que usamos una escala de colores diferente, tu mapa se verá distinto a como lo viste en la página del ICGEM.</font>"
   ]
  },
  {
   "cell_type": "code",
   "execution_count": null,
   "metadata": {},
   "outputs": [],
   "source": []
  }
 ],
 "metadata": {
  "kernelspec": {
   "display_name": "Python 3",
   "language": "python",
   "name": "python3"
  },
  "language_info": {
   "codemirror_mode": {
    "name": "ipython",
    "version": 3
   },
   "file_extension": ".py",
   "mimetype": "text/x-python",
   "name": "python",
   "nbconvert_exporter": "python",
   "pygments_lexer": "ipython3",
   "version": "3.8.5"
  }
 },
 "nbformat": 4,
 "nbformat_minor": 4
}
