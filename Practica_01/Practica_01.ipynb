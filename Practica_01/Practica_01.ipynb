{
 "cells": [
  {
   "cell_type": "markdown",
   "metadata": {},
   "source": [
    "![title](img/header2.png)"
   ]
  },
  {
   "cell_type": "markdown",
   "metadata": {
    "collapsed": true
   },
   "source": [
    "# Objetivo\n",
    "Repasar los conceptos básicos de programación aplicada a la solución de problemas de Ciencias de la Tierra. En esta práctica harás uso de los comandos básicos de Python para estimar la gravedad producida por los planetas a partir de sus masas y decidir que planeta ejerce la mayor atracción gravitacional sobre tí. Además realizarás un ejercicio para el cálculo de la deriva y la compararás con su solución analítica.  "
   ]
  },
  {
   "cell_type": "markdown",
   "metadata": {},
   "source": [
    "# Encuesta\n",
    "Esta secciónes, es simplemente una encuesta, **no hay respuestas correctas o erroneas**. (Puedes elegir a El Sol en tus respuestas).\n",
    "1. ¿Qué planeta crees que tiene la mayor masa?\n",
    "2. ¿Qué planeta piensas que es el más cercano?\n",
    "3. ¿Qué planeta crees que te atrae con mayor fuerza de gravedad?"
   ]
  },
  {
   "cell_type": "markdown",
   "metadata": {
    "collapsed": true
   },
   "source": [
    "# Parte 1\n",
    "Antes de empezar cualquier programa es necesario importar las librerias que va a necesitar. En este caso haremos uso de dos librerias muy comunes que son **`numpy`** y **`matplotlib`**. "
   ]
  },
  {
   "cell_type": "code",
   "execution_count": 1,
   "metadata": {
    "collapsed": true
   },
   "outputs": [],
   "source": [
    "import numpy as np\n",
    "from matplotlib import pyplot as plt"
   ]
  },
  {
   "cell_type": "markdown",
   "metadata": {},
   "source": [
    "En esta sección vamos a calcular la distancia que hay de la Tierra a los demás planetas del sistema solar. Debido a que todos los planetas tienen una orbita própia, la distancia que hay a ellos cambia continuamente. \n",
    "Visita la página <a href=\"https://www.timeanddate.com/astronomy/planets/distance\">https://www.timeanddate.com</a> para conocer la orbita actual de cada uno de los planetas. Basado en esta información generá un archivo de texto con dos columnas, en la primera deberás de colocar la masa del planeta en <font color='red'>**km**</font> (la cual es relativamente constante) y en la segunda la distancia del planeta con respecto a la Tierra en <font color='red'>**km**</font>.  De la siguiente forma:\n",
    "\n",
    "Ejemplo<br>\n",
    "**&#35; Masa [kg] Distancia[km]**<br>\n",
    "5.94e24 6371<br>\n",
    "...<br>\n",
    "Guarda estos datos en un archivo de texto, llamado **datos.txt**. Posteriormente vamos a leer los datos utilizando la función **numpy.genfromtxt()**. Investiga su uso y lee los datos en la variable A.\n"
   ]
  },
  {
   "cell_type": "code",
   "execution_count": 2,
   "metadata": {
    "collapsed": true
   },
   "outputs": [],
   "source": [
    "# Escribe tu código aquí."
   ]
  },
  {
   "cell_type": "markdown",
   "metadata": {},
   "source": [
    "Para el calculo de la gravedad utilizaremos la Ley de Gravitación Universal propuesta por Isaac Newton en 1687, la cual estipula que:\n",
    "$$g=G\\frac{M}{r^2}$$\n",
    "Donde $G=6.67\\times 10^{-11} [m^3\\,kg^1\\,s^-2]$, M es la masa en kg, y r es la distancia en **m**. Modifica tu variable **A** de tal forma que la segunda columna este en metros."
   ]
  },
  {
   "cell_type": "code",
   "execution_count": 3,
   "metadata": {
    "collapsed": true
   },
   "outputs": [],
   "source": [
    "#Escribe tu código aquí\n"
   ]
  },
  {
   "cell_type": "markdown",
   "metadata": {},
   "source": [
    "Ahora haz uso de la Ley de Gravitación Universal para el cálculo de la gravedad ejercidad sobre cada uno de los planetas sobre tí. Guardalo en la variable g."
   ]
  },
  {
   "cell_type": "code",
   "execution_count": 4,
   "metadata": {
    "collapsed": true
   },
   "outputs": [],
   "source": [
    "# Escribe tu código aquí\n"
   ]
  },
  {
   "cell_type": "markdown",
   "metadata": {},
   "source": [
    "Grafíca la gravedad ejercida por cada uno de los planetas incluyendo El Sol en función de la distancias que nos separa. Para una mejor vizualización utiliza una escala logaritmica en ambos ejes. **NO OLVIDES NOMBRAR TUS EJES Y LAS UNIDADES** *(Se sugiere agregar el nombre de los planetas)*"
   ]
  },
  {
   "cell_type": "code",
   "execution_count": 5,
   "metadata": {
    "collapsed": true
   },
   "outputs": [],
   "source": [
    "# Escribe tu código aquí\n"
   ]
  },
  {
   "cell_type": "markdown",
   "metadata": {},
   "source": [
    "Ahora repite el ejercicio anterior pero está vez grafica la gravedad en función de la masa. "
   ]
  },
  {
   "cell_type": "code",
   "execution_count": 6,
   "metadata": {
    "collapsed": true
   },
   "outputs": [],
   "source": [
    "#Escribe tu código aquí"
   ]
  },
  {
   "cell_type": "markdown",
   "metadata": {},
   "source": [
    "Calcula la aceleración gravitacional producida por una persona a 1 metro de distancia y a 10cm. "
   ]
  },
  {
   "cell_type": "code",
   "execution_count": 7,
   "metadata": {
    "collapsed": true
   },
   "outputs": [],
   "source": [
    "#Escribe tu código aquí\n"
   ]
  },
  {
   "cell_type": "markdown",
   "metadata": {},
   "source": [
    "# Cuestionario\n",
    "1. Tus resultados son consistentes con tu suposición inicial.\n",
    "2. ¿Qué planeta ejerce una mayor atracción gravitacional sobre tí?\n",
    "3. ¿Es comparable la atracción gravitacional producida por una persona que la producida por un planeta?\n",
    "4. ¿Cuántos ordes de magnitud hay de diferencia entre la gravedad producida por El Sol y la producida por el planeta más cercano?"
   ]
  },
  {
   "cell_type": "code",
   "execution_count": null,
   "metadata": {
    "collapsed": true
   },
   "outputs": [],
   "source": []
  }
 ],
 "metadata": {
  "kernelspec": {
   "display_name": "Python 3",
   "language": "python",
   "name": "python3"
  },
  "language_info": {
   "codemirror_mode": {
    "name": "ipython",
    "version": 3
   },
   "file_extension": ".py",
   "mimetype": "text/x-python",
   "name": "python",
   "nbconvert_exporter": "python",
   "pygments_lexer": "ipython3",
   "version": "3.6.7"
  }
 },
 "nbformat": 4,
 "nbformat_minor": 2
}
