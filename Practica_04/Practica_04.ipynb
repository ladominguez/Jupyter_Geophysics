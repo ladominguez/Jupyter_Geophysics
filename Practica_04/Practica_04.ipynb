{
 "cells": [
  {
   "cell_type": "markdown",
   "metadata": {},
   "source": [
    "![title](./header2.png)"
   ]
  },
  {
   "cell_type": "markdown",
   "metadata": {
    "collapsed": true
   },
   "source": [
    "# Fecha de entrega: <font color='red'>Martes 31 de marzo del 2020. 11:55PM </font>"
   ]
  },
  {
   "cell_type": "markdown",
   "metadata": {},
   "source": [
    "# Objetivo\n",
    "En esta práctica obtendrás datos de estaciones magnéticas permanentes y obtendrás a partir de ellos otros parámentros de interés como son la declinación y la inclinación. "
   ]
  },
  {
   "cell_type": "markdown",
   "metadata": {},
   "source": [
    "# Parte 1"
   ]
  },
  {
   "cell_type": "markdown",
   "metadata": {},
   "source": [
    "Intermagnet es un servicio de distribución de datos magnéticos de estaciones permanentes instaladas en todo el mundo (https://www.intermagnet.org/index-eng.php). En este sitio encontrarás una gran cantidad de datos, los cuales pueden ser descargados libremente. Existen tres formatos diferentes: XYZ (sistema cartesiano, X=Norte, Y=Este Z=Vertica), HD (Horizonta, Declinación, Vertical) y Declinación/Inclinación . **Nota. No siempre están disponibles para todas las estaciones**."
   ]
  },
  {
   "cell_type": "markdown",
   "metadata": {},
   "source": [
    "a) Para tu fecha de nacimiento, eligue cualquier estación del mundo y solicita la gráfica. Descargala (**no caputura de pantalla**) en formato XYZ, HDZ y Declinación/Inclinación. Incluye tus gráficas a continuación en la siguiente celda. (__Remplaza filename por el nombre de tus archivos__)\n",
    "\n",
    "**Fecha de Nacimiento:**<br>\n",
    "**Nombre de la estación:**"
   ]
  },
  {
   "cell_type": "markdown",
   "metadata": {},
   "source": [
    "![title](./filename_XYZ.png)\n",
    "![title](./filename_HDZ.png)\n",
    "![title](./filename_DI.png)"
   ]
  },
  {
   "cell_type": "markdown",
   "metadata": {},
   "source": [
    "Observa que las gráfica oscilan a partir de un valor promedio que se muestra del lado derecho. "
   ]
  },
  {
   "cell_type": "markdown",
   "metadata": {},
   "source": [
    "Descarga los valores numéricos en formato **HDZ** y guardalos en un archivo de texto. Carga tus datos en la siguiente celda."
   ]
  },
  {
   "cell_type": "code",
   "execution_count": null,
   "metadata": {
    "collapsed": true
   },
   "outputs": [],
   "source": [
    "# Escribe tu código aquí."
   ]
  },
  {
   "cell_type": "markdown",
   "metadata": {},
   "source": [
    "Calcula los valores promedio de cada una de las variables (HDZ). Tip. Utiliza la función numpy.average. "
   ]
  },
  {
   "cell_type": "code",
   "execution_count": null,
   "metadata": {
    "collapsed": true
   },
   "outputs": [],
   "source": [
    "# Escribe tu código aquí. "
   ]
  },
  {
   "cell_type": "markdown",
   "metadata": {},
   "source": [
    "Graficas tus datos en formato HDZ. Tu gráfica debé de ser muy similar a la obtenida través del sitio Web. **Nota: Tu eje horizontal debe de estar en horas de 0 a 24**"
   ]
  },
  {
   "cell_type": "code",
   "execution_count": null,
   "metadata": {
    "collapsed": true
   },
   "outputs": [],
   "source": [
    "# Escribe tu código aquí. "
   ]
  },
  {
   "cell_type": "markdown",
   "metadata": {},
   "source": [
    "A partir de los datos de HDZ, reproduce las otras gráficas (XYZ, DI) con las expresiones matemáticas vistas en clase. Utiliza funciones de numpy, esto te evitará el uso de ciclos FOR."
   ]
  },
  {
   "cell_type": "code",
   "execution_count": null,
   "metadata": {
    "collapsed": true
   },
   "outputs": [],
   "source": []
  },
  {
   "cell_type": "markdown",
   "metadata": {},
   "source": [
    "# Conclusiones\n",
    "\n",
    "1. ¿cuales son los valores máximo y mínimos del campo total registrado?\n",
    "2. ¿Qué variable tiene una mayor fluctuación?\n",
    "3. ¿Observas alguna evidencia de tormenta solar?\n",
    "\n"
   ]
  },
  {
   "cell_type": "code",
   "execution_count": null,
   "metadata": {
    "collapsed": true
   },
   "outputs": [],
   "source": []
  }
 ],
 "metadata": {
  "kernelspec": {
   "display_name": "Python 3",
   "language": "python",
   "name": "python3"
  },
  "language_info": {
   "codemirror_mode": {
    "name": "ipython",
    "version": 3
   },
   "file_extension": ".py",
   "mimetype": "text/x-python",
   "name": "python",
   "nbconvert_exporter": "python",
   "pygments_lexer": "ipython3",
   "version": "3.6.7"
  }
 },
 "nbformat": 4,
 "nbformat_minor": 2
}
