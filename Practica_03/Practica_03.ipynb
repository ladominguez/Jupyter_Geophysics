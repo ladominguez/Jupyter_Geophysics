{
 "cells": [
  {
   "cell_type": "markdown",
   "metadata": {},
   "source": [
    "![title](./header2.png)"
   ]
  },
  {
   "cell_type": "markdown",
   "metadata": {},
   "source": [
    "# Fecha de entrega: <font color='red'>Jueves 27 de febrero del 2020. 10PM </font>"
   ]
  },
  {
   "cell_type": "markdown",
   "metadata": {
    "collapsed": true
   },
   "source": [
    "# Objetivo\n",
    "Estimar la aceleración gravitacional producida por el efecto combinado del Sol y la Luna. En está práctica harás uso del software, TSoft http://seismologie.oma.be/en/downloads/tsoft, para el calculo de las mareas teórica, e identificarás los periodos de marea alta y baja, así como los peridos de mareas viva y muerta. "
   ]
  },
  {
   "cell_type": "markdown",
   "metadata": {},
   "source": [
    "# Encuesta\n"
   ]
  },
  {
   "cell_type": "markdown",
   "metadata": {
    "collapsed": true
   },
   "source": [
    "# Parte 1\n",
    "Antes de empezar cualquier programa es necesario importar las librerias que va a necesitar. En este caso haremos uso de dos librerias muy comunes que son **`numpy`** y **`matplotlib`**. "
   ]
  },
  {
   "cell_type": "code",
   "execution_count": 10,
   "metadata": {
    "collapsed": true
   },
   "outputs": [],
   "source": [
    "import numpy as np\n",
    "from matplotlib import pyplot as plt"
   ]
  },
  {
   "cell_type": "markdown",
   "metadata": {},
   "source": [
    "En esta sección harás uso del software TSoft para el cálculo de las mareas el día de tu cumpleaños y durante el mes de tu cumpleaños. Para ello necesitarás no solo la fecha sino también las coordenadas de tu sitio de nacimiento:<br><br>\n",
    "**Latitud:**<br> \n",
    "**Longitud:**<br>\n",
    "**Elevación:**<br>\n",
    "**Fecha de nacimiento:**<br>\n",
    "<br>Exporta tus datos como dos archivos de texto con dos columnas. Importalos en Python. La primera columna indica el tiempo a partir del 1 de enero del año que hayas elegido, y la segunda la aceleración de la gravedad en ns/m. Grafica tus datos,para el día de tu cumpleaños el ejer horizontal debe indicar horas. "
   ]
  },
  {
   "cell_type": "code",
   "execution_count": 11,
   "metadata": {},
   "outputs": [
    {
     "data": {
      "text/plain": [
       "<matplotlib.figure.Figure at 0x10e68a5f8>"
      ]
     },
     "execution_count": 11,
     "metadata": {},
     "output_type": "execute_result"
    }
   ],
   "source": [
    "# Escribe tu código aquí.\n",
    "plt.figure(figsize=(9,3))\n",
    "\n",
    "\n"
   ]
  },
  {
   "cell_type": "markdown",
   "metadata": {},
   "source": [
    "A continuación, grafica tus datos para el mes de tu cumpleaños inciando el primer día del mes y hasta el último día del mes. El eje horizontal debe indicar días. "
   ]
  },
  {
   "cell_type": "code",
   "execution_count": 12,
   "metadata": {},
   "outputs": [
    {
     "data": {
      "text/plain": [
       "<matplotlib.figure.Figure at 0x111bd0e10>"
      ]
     },
     "execution_count": 12,
     "metadata": {},
     "output_type": "execute_result"
    }
   ],
   "source": [
    "# Escribe tu código aquí.\n",
    "plt.figure(figsize=(9,3))\n"
   ]
  },
  {
   "cell_type": "markdown",
   "metadata": {},
   "source": [
    "Calcula la marea teórica para un modelo simplificado debida a la atracción lunar en los puntos A y B como se indica en la página 52 del libro, Lowrie, Fundamentals of Geophysics. Expresa tu resultado en mGal. "
   ]
  },
  {
   "cell_type": "code",
   "execution_count": 19,
   "metadata": {},
   "outputs": [
    {
     "name": "stdout",
     "output_type": "stream",
     "text": [
      "Gravedad en el punto 0.0000   mGals.\n",
      "Gravedad en el punto 0.0000   mGals.\n"
     ]
    }
   ],
   "source": [
    "#Escribe tu código aquí\n",
    "\n",
    "print(\"Gravedad en el punto %5.4f \" % g_B, \" mGals.\")\n",
    "print(\"Gravedad en el punto %5.4f \" % g_A, \" mGals.\")"
   ]
  },
  {
   "cell_type": "code",
   "execution_count": null,
   "metadata": {
    "collapsed": true
   },
   "outputs": [],
   "source": []
  },
  {
   "cell_type": "markdown",
   "metadata": {},
   "source": [
    "# Cuestionario\n",
    "1. ¿Naciste en perido de marea alta o marea baja?\n",
    "2. ¿Naciste en perido de marea viva o marea muerta?\n",
    "3. ¿Con respecto al valor teórico obtenido en el punto anterior? En que porcentaje es mayor o menor la marea teórica calculada con TSoft. (Muestra tus cálculos en la siguiente celda)"
   ]
  },
  {
   "cell_type": "code",
   "execution_count": null,
   "metadata": {
    "collapsed": true
   },
   "outputs": [],
   "source": []
  }
 ],
 "metadata": {
  "kernelspec": {
   "display_name": "Python 3",
   "language": "python",
   "name": "python3"
  },
  "language_info": {
   "codemirror_mode": {
    "name": "ipython",
    "version": 3
   },
   "file_extension": ".py",
   "mimetype": "text/x-python",
   "name": "python",
   "nbconvert_exporter": "python",
   "pygments_lexer": "ipython3",
   "version": "3.6.7"
  },
  "widgets": {
   "application/vnd.jupyter.widget-state+json": {
    "state": {},
    "version_major": 1,
    "version_minor": 0
   }
  }
 },
 "nbformat": 4,
 "nbformat_minor": 2
}
