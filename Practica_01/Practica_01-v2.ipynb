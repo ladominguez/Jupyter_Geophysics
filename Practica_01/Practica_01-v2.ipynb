{
 "cells": [
  {
   "cell_type": "markdown",
   "metadata": {},
   "source": [
    "![title](img/header2.png)"
   ]
  },
  {
   "cell_type": "markdown",
   "metadata": {
    "collapsed": true
   },
   "source": [
    "# Misión\n",
    "En esta práctica vamos a repasar los conceptos básicos de programación aplicada a la solución de problemas de Ciencias de la Tierra. Para esto vamos a usar algunos de los comandos básicos de Python para estimar la gravedad producida por los planetas a partir de sus masas y decidir que planeta ejerce la mayor atracción gravitacional sobre tí. Además realizarás un ejercicio para el cálculo de la deriva y la compararás con su solución analítica.\n",
    "\n",
    "### <font color='red'>No hardcoding</font> \n",
    "Todos los resultados deberán de calcularse dentro del programa. Calculos realizados de manera externa se consideran como incorrectos."
   ]
  },
  {
   "cell_type": "markdown",
   "metadata": {
    "collapsed": true
   },
   "source": [
    "# Parte 1\n",
    "Antes de empezar cualquier programa es necesario importar las librerías que va a utilizar. En este caso haremos uso de dos librerías muy comunes que son **`numpy`** y **`matplotlib`**. "
   ]
  },
  {
   "cell_type": "code",
   "execution_count": 5,
   "metadata": {
    "collapsed": true
   },
   "outputs": [],
   "source": [
    "import numpy as np\n",
    "from matplotlib import pyplot as plt"
   ]
  },
  {
   "cell_type": "markdown",
   "metadata": {},
   "source": [
    "En esta sección vamos a calcular la distancia que hay de la Tierra a los demás planetas del sistema solar. Debido a que todos los planetas tienen una orbita propia, la distancia que hay a ellos cambia continuamente. \n",
    "Visita la página <a href=\"https://www.timeanddate.com/astronomy/planets/distance\">https://www.timeanddate.com</a> para conocer la orbita actual de cada uno de los planetas. Basado en esta información generá un archivo de texto con dos columnas, en la primera deberás de colocar la masa del planeta en <font color='red'>**km**</font> (la cual es relativamente constante) y en la segunda la distancia del planeta con respecto a la Tierra en <font color='red'>**km**</font>.  De la siguiente forma:\n",
    "\n",
    "Ejemplo<br>\n",
    "**&#35; Masa [km] Distancia[km]**<br>\n",
    "5.94e24 6371<br>\n",
    "...<br>\n",
    "Guarda estos datos en un archivo de texto, llamado **datos.txt**. Posteriormente vamos a leer los datos utilizando la función **numpy.genfromtxt()**. Investiga su uso y lee los datos en la variable A.\n"
   ]
  },
  {
   "cell_type": "code",
   "execution_count": 3,
   "metadata": {},
   "outputs": [],
   "source": [
    "# Escribe tu código aquí.\n",
    "A= None\n",
    "A"
   ]
  },
  {
   "cell_type": "markdown",
   "metadata": {},
   "source": [
    "<b>Nota.</b> Tus valores de distancia pueden variar.\n",
    "```\n",
    "array([[1.473670e+08, 1.989000e+30],\n",
    "       [1.638170e+08, 4.867000e+24],\n",
    "       [1.808880e+08, 3.285000e+23],\n",
    "       [2.924580e+08, 6.390000e+23],\n",
    "       [9.085150e+08, 1.898000e+27],\n",
    "       [1.641944e+09, 1.568300e+26],\n",
    "       [2.980892e+09, 8.681000e+25],\n",
    "       [4.595655e+09, 1.024000e+26]])\n",
    "```"
   ]
  },
  {
   "cell_type": "markdown",
   "metadata": {},
   "source": [
    "Para el calculo de la gravedad utilizaremos la Ley de Gravitación Universal propuesta por Isaac Newton en 1687, la cual estipula que:\n",
    "$$g=-G\\frac{M}{r^2}$$\n",
    "Donde $G=6.67\\times 10^{-11} [m^3\\,kg^1\\,s^{-2}]$, M es la masa en kg, y r es la distancia en **m**. Modifica tu variable **A** de tal forma que la segunda columna este en metros."
   ]
  },
  {
   "cell_type": "code",
   "execution_count": 2,
   "metadata": {},
   "outputs": [],
   "source": [
    "#Escribe tu código aquí\n",
    "r=None\n",
    "M=None\n"
   ]
  },
  {
   "cell_type": "markdown",
   "metadata": {},
   "source": [
    "Ahora haz uso de la Ley de Gravitación Universal para el cálculo de la gravedad ejercidad sobre cada uno de los planetas sobre tí. Guardalo en la variable g."
   ]
  },
  {
   "cell_type": "code",
   "execution_count": 8,
   "metadata": {},
   "outputs": [
    {
     "data": {
      "text/plain": [
       "array([6.10885943e-03, 1.20967650e-08, 6.69640472e-10, 4.98310090e-10,\n",
       "       1.53376152e-07, 3.88005869e-09, 6.51633056e-10, 3.23393252e-10])"
      ]
     },
     "execution_count": 8,
     "metadata": {},
     "output_type": "execute_result"
    }
   ],
   "source": [
    "# Escribe tu código aquí\n",
    "G=None\n",
    "g=None\n"
   ]
  },
  {
   "cell_type": "markdown",
   "metadata": {},
   "source": [
    "Grafíca la gravedad ejercida por cada uno de los planetas incluyendo el Sol en función de la distancias que nos separa. Para una mejor vizualización utiliza una escala logaritmica en ambos ejes. **NO OLVIDES NOMBRAR TUS EJES Y LAS UNIDADES** *(Se sugiere agregar el nombre de los planetas)*"
   ]
  },
  {
   "cell_type": "code",
   "execution_count": 5,
   "metadata": {},
   "outputs": [],
   "source": [
    "# Escribe tu código aquí\n",
    "None"
   ]
  },
  {
   "cell_type": "markdown",
   "metadata": {},
   "source": [
    "#### Resultado esperado\n",
    "Deber de realizar tu gráfica en escala logaritmica. Tus valores aunque pueden variar deben de estar dentro de un mismo orden de magnitud. \n",
    "![title](./img/img1.png)"
   ]
  },
  {
   "cell_type": "markdown",
   "metadata": {},
   "source": [
    "Ahora repite el ejercicio anterior pero está vez grafica la gravedad en función de la masa. "
   ]
  },
  {
   "cell_type": "code",
   "execution_count": 8,
   "metadata": {},
   "outputs": [],
   "source": [
    "# Esribe tu código aquí.\n",
    "None"
   ]
  },
  {
   "cell_type": "markdown",
   "metadata": {},
   "source": [
    "![title](./img/img2.png)"
   ]
  },
  {
   "cell_type": "markdown",
   "metadata": {},
   "source": [
    "# Parte 3\n",
    "Calcula la aceleración gravitacional producida por una persona a 1 metro de distancia y a 10cm. "
   ]
  },
  {
   "cell_type": "code",
   "execution_count": 7,
   "metadata": {},
   "outputs": [
    {
     "name": "stdout",
     "output_type": "stream",
     "text": [
      "La aceleración gravitacional producida por una persona a 1m es  None  m/s^2\n",
      "La aceleración gravitacional producida por una persona a 10cm es  None  m/s^2\n"
     ]
    }
   ],
   "source": [
    "#Escribe tu código aquí\n",
    "m=None\n",
    "r1=None\n",
    "g1=None\n",
    "print('La aceleración gravitacional producida por una persona a 1m es ', g1, ' m/s^2')\n",
    "r2=None\n",
    "g2=None\n",
    "print('La aceleración gravitacional producida por una persona a 10cm es ', g2, ' m/s^2')"
   ]
  },
  {
   "cell_type": "markdown",
   "metadata": {},
   "source": [
    "# Cuestionario\n",
    "1. Tus resultados son consistentes con tu suposición inicial.\n",
    "2. ¿Qué planeta ejerce una mayor atracción gravitacional sobre tí?\n",
    "3. ¿Es comparable la atracción gravitacional producida por una persona que la producida por un planeta?\n",
    "4. ¿Cuántos ordes de magnitud hay de diferencia entre la gravedad producida por El Sol y la producida por el planeta más cercano? <br>\n",
    "(<b>Escribe tus respuestas en la siguiente celda.</b>)\n",
    "\n",
    "### Nota. Revisa que todos tus resultado tengan sentidos físicos. <font color='red'>Resultados que sean físicamente imposibles se evaluan como incorrectos. </font>"
   ]
  },
  {
   "cell_type": "code",
   "execution_count": null,
   "metadata": {
    "collapsed": true
   },
   "outputs": [],
   "source": []
  }
 ],
 "metadata": {
  "kernelspec": {
   "display_name": "Python 3",
   "language": "python",
   "name": "python3"
  },
  "language_info": {
   "codemirror_mode": {
    "name": "ipython",
    "version": 3
   },
   "file_extension": ".py",
   "mimetype": "text/x-python",
   "name": "python",
   "nbconvert_exporter": "python",
   "pygments_lexer": "ipython3",
   "version": "3.8.5"
  }
 },
 "nbformat": 4,
 "nbformat_minor": 2
}
