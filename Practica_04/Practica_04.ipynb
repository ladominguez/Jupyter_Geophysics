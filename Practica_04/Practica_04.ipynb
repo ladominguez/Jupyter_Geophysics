{
 "cells": [
  {
   "cell_type": "markdown",
   "metadata": {},
   "source": [
    "![title](./header2.png)"
   ]
  },
  {
   "cell_type": "markdown",
   "metadata": {},
   "source": [
    "# Misión\n",
    "En esta práctica obtendrás datos de estaciones magnéticas permanentes y obtendrás a partir de ellos otros parámetros de interés como son la declinación, inclinación, etc. "
   ]
  },
  {
   "cell_type": "markdown",
   "metadata": {},
   "source": [
    "# Parte 1"
   ]
  },
  {
   "cell_type": "markdown",
   "metadata": {},
   "source": [
    "Intermagnet es un servicio de distribución de datos magnéticos de estaciones permanentes instaladas en todo el mundo (https://www.intermagnet.org/index-eng.php). En este sitio encontrarás una gran cantidad de datos, los cuales pueden ser descargados libremente. Existen tres formatos diferentes: XYZ (sistema cartesiano, X=Norte, Y=Este Z=Vertica), HD (Horizontal, Declinación, Vertical) y Declinación/Inclinación . **Nota. No siempre están disponibles para todas las estaciones**."
   ]
  },
  {
   "cell_type": "markdown",
   "metadata": {},
   "source": [
    "a) Para tu fecha de nacimiento, elige cualquier estación del mundo y solicita la gráfica. Descargala (**no caputura de pantalla**) en formato XYZ, HDZ y Declinación/Inclinación. Incluye tus gráficas a continuación en la siguiente celda. (__Remplaza filename por el nombre de tus archivos__)\n",
    "\n",
    "**Fecha de Nacimiento:**<br>\n",
    "**Nombre de la estación:**"
   ]
  },
  {
   "cell_type": "markdown",
   "metadata": {},
   "source": [
    "![title](./filename_XYZ.png)\n",
    "![title](./filename_HDZ.png)\n",
    "![title](./filename_DI.png)"
   ]
  },
  {
   "cell_type": "markdown",
   "metadata": {},
   "source": [
    "## Ejemplos\n",
    "Las siguientes gráficas muestran algunas gráficas de ejemplo.\n",
    "<img src='./ej_xyz.png' width=400>\n",
    "<img src='./ej_HDZ.png' width=400>\n",
    "<img src='./ej_DIF.png' width=400>\n",
    "Observa que las gráfica oscilan a partir de un valor promedio que se muestra del lado derecho. "
   ]
  },
  {
   "cell_type": "markdown",
   "metadata": {},
   "source": [
    "Descarga los valores numéricos en formato **HDZ** y guardalos en un archivo de texto. Carga tus datos en la siguiente celda."
   ]
  },
  {
   "cell_type": "code",
   "execution_count": null,
   "metadata": {
    "collapsed": true
   },
   "outputs": [],
   "source": [
    "# Escribe tu código aquí."
   ]
  },
  {
   "cell_type": "markdown",
   "metadata": {},
   "source": [
    "Calcula los valores promedio de cada una de las variables (HDZ). Tip. Utiliza la función <a href='https://numpy.org/doc/stable/reference/generated/numpy.average.html'>numpy.average</a>. "
   ]
  },
  {
   "cell_type": "code",
   "execution_count": null,
   "metadata": {
    "collapsed": true
   },
   "outputs": [],
   "source": [
    "# Escribe tu código aquí. "
   ]
  },
  {
   "cell_type": "markdown",
   "metadata": {},
   "source": [
    "Grafica tus datos en formato HDZ. Tu gráfica debe de ser muy similar a la obtenida través del sitio Web. **Nota: Tu eje horizontal debe de estar en horas de 0 a 24**"
   ]
  },
  {
   "cell_type": "code",
   "execution_count": null,
   "metadata": {
    "collapsed": true
   },
   "outputs": [],
   "source": [
    "# Escribe tu código aquí. "
   ]
  },
  {
   "cell_type": "markdown",
   "metadata": {},
   "source": [
    "A partir de los datos de HDZ, reproduce las otras gráficas (XYZ, DI) con las expresiones matemáticas vistas en clase. Utiliza funciones de **numpy**, esto te evitará el uso de ciclos FOR."
   ]
  },
  {
   "cell_type": "code",
   "execution_count": null,
   "metadata": {
    "collapsed": true
   },
   "outputs": [],
   "source": [
    "# Escribe tu código aquí. "
   ]
  },
  {
   "cell_type": "markdown",
   "metadata": {},
   "source": [
    "# Conclusiones\n",
    "\n",
    "1. ¿Cuáles son los valores máximo y mínimos del campo total registrado?\n",
    "2. ¿Qué variable tiene una mayor fluctuación?\n",
    "3. ¿Observas alguna evidencia de tormenta solar?"
   ]
  },
  {
   "cell_type": "code",
   "execution_count": null,
   "metadata": {
    "collapsed": true
   },
   "outputs": [],
   "source": []
  }
 ],
 "metadata": {
  "kernelspec": {
   "display_name": "Python 3",
   "language": "python",
   "name": "python3"
  },
  "language_info": {
   "codemirror_mode": {
    "name": "ipython",
    "version": 3
   },
   "file_extension": ".py",
   "mimetype": "text/x-python",
   "name": "python",
   "nbconvert_exporter": "python",
   "pygments_lexer": "ipython3",
   "version": "3.8.5"
  }
 },
 "nbformat": 4,
 "nbformat_minor": 2
}
